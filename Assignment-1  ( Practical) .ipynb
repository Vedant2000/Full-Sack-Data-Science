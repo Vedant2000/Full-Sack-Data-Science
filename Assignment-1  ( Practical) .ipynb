{
 "cells": [
  {
   "cell_type": "markdown",
   "metadata": {},
   "source": [
    "1.\tWrite a Python program to print \"Hello Python\"?"
   ]
  },
  {
   "cell_type": "code",
   "execution_count": 1,
   "metadata": {},
   "outputs": [
    {
     "name": "stdout",
     "output_type": "stream",
     "text": [
      "Hello Python\n"
     ]
    }
   ],
   "source": [
    "print(\"Hello Python\")"
   ]
  },
  {
   "cell_type": "markdown",
   "metadata": {},
   "source": [
    "2.\tWrite a Python program to do arithmetical operations addition and division.?"
   ]
  },
  {
   "cell_type": "code",
   "execution_count": 3,
   "metadata": {},
   "outputs": [
    {
     "name": "stdout",
     "output_type": "stream",
     "text": [
      "The addition of two numbers is:  30\n",
      "The addition of two numbers is:  0.5\n"
     ]
    }
   ],
   "source": [
    "a,b = 10,20\n",
    "print(\"The addition of two numbers is: \",a + b)\n",
    "print(\"The addition of two numbers is: \",a / b)"
   ]
  },
  {
   "cell_type": "markdown",
   "metadata": {},
   "source": [
    "3.\tWrite a Python program to find the area of a triangle?"
   ]
  },
  {
   "cell_type": "code",
   "execution_count": 6,
   "metadata": {},
   "outputs": [
    {
     "name": "stdout",
     "output_type": "stream",
     "text": [
      "enter bredth of a triangle: 23\n",
      "enter bredth of a triangle: 45\n",
      "Area of a triangle is :  517.5\n"
     ]
    }
   ],
   "source": [
    "# area of triangle = 1/2 b*h\n",
    "b = int(input(\"enter bredth of a triangle: \"))\n",
    "h = int(input(\"enter bredth of a triangle: \"))\n",
    "print(\"Area of a triangle is : \",(b*h/2))"
   ]
  },
  {
   "cell_type": "markdown",
   "metadata": {},
   "source": [
    "4.\tWrite a Python program to swap two variables?"
   ]
  },
  {
   "cell_type": "code",
   "execution_count": 9,
   "metadata": {},
   "outputs": [
    {
     "name": "stdout",
     "output_type": "stream",
     "text": [
      "Numbers before swapping:  (10, 20)\n",
      "Numbers after swapping:  (20, 10)\n"
     ]
    }
   ],
   "source": [
    "a,b = 10,20\n",
    "print(\"Numbers before swapping: \",(a,b))\n",
    "a,b = b,a\n",
    "print(\"Numbers after swapping: \",(a,b))"
   ]
  },
  {
   "cell_type": "markdown",
   "metadata": {},
   "source": [
    "5.\tWrite a Python program to generate a random number?"
   ]
  },
  {
   "cell_type": "code",
   "execution_count": 27,
   "metadata": {},
   "outputs": [
    {
     "name": "stdout",
     "output_type": "stream",
     "text": [
      "Generated random number is:  0.015995644028251266\n"
     ]
    }
   ],
   "source": [
    "import random\n",
    "print(\"Generated random number is: \",random.random())"
   ]
  }
 ],
 "metadata": {
  "kernelspec": {
   "display_name": "Python 3",
   "language": "python",
   "name": "python3"
  },
  "language_info": {
   "codemirror_mode": {
    "name": "ipython",
    "version": 3
   },
   "file_extension": ".py",
   "mimetype": "text/x-python",
   "name": "python",
   "nbconvert_exporter": "python",
   "pygments_lexer": "ipython3",
   "version": "3.8.5"
  }
 },
 "nbformat": 4,
 "nbformat_minor": 4
}
