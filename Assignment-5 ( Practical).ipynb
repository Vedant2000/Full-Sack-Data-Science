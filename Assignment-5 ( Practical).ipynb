{
 "cells": [
  {
   "cell_type": "markdown",
   "metadata": {},
   "source": [
    "1.\tWrite a Python Program to Find LCM?"
   ]
  },
  {
   "cell_type": "code",
   "execution_count": 3,
   "metadata": {},
   "outputs": [
    {
     "name": "stdout",
     "output_type": "stream",
     "text": [
      "The L.C.M. is 10\n"
     ]
    }
   ],
   "source": [
    "class lcm:\n",
    "    def __init__(self,num1,num2):\n",
    "        self.num1 = num1\n",
    "        self.num2 = num2\n",
    "        \n",
    "    def calculate_hcf(self):\n",
    "        if num1 > num2:\n",
    "            greater = x\n",
    "        else:\n",
    "            greater = y\n",
    "            \n",
    "        while(True):\n",
    "        if((greater % x == 0) and (greater % y == 0)):\n",
    "            lcm = greater\n",
    "            break\n",
    "        greater += 1\n",
    "\n",
    "    return f\"The hcf of {self.num1} and {self.num2} is {lcm}\"\n"
   ]
  },
  {
   "cell_type": "markdown",
   "metadata": {},
   "source": [
    "-------"
   ]
  },
  {
   "cell_type": "markdown",
   "metadata": {},
   "source": [
    "2.\tWrite a Python Program to Find HCF?"
   ]
  },
  {
   "cell_type": "code",
   "execution_count": 9,
   "metadata": {},
   "outputs": [],
   "source": [
    "class hcf:\n",
    "    def __init__(self,num1,num2):\n",
    "        self.num1 = num1\n",
    "        self.num2 = num2\n",
    "        \n",
    "    def calculate_hcf(self):\n",
    "        if num1 > num2:\n",
    "            small = num2\n",
    "        else:\n",
    "            small = num1\n",
    "            \n",
    "        for i in range(1,small+1):\n",
    "            if((self.num1 % i == 0 ) and (self.num2 % i == 0)):\n",
    "                hcf=i\n",
    "        return f\"The hcf of {self.num1} and {self.num2} is {hcf}\""
   ]
  },
  {
   "cell_type": "code",
   "execution_count": 10,
   "metadata": {},
   "outputs": [
    {
     "data": {
      "text/plain": [
       "'The hcf of 12 and 13 is 1'"
      ]
     },
     "execution_count": 10,
     "metadata": {},
     "output_type": "execute_result"
    }
   ],
   "source": [
    "op = hcf()\n",
    "op.calculate_hcf()"
   ]
  },
  {
   "cell_type": "markdown",
   "metadata": {},
   "source": [
    "------"
   ]
  },
  {
   "cell_type": "markdown",
   "metadata": {},
   "source": [
    "3.\tWrite a Python Program to Convert Decimal to Binary, Octal and Hexadecimal?"
   ]
  },
  {
   "cell_type": "code",
   "execution_count": 24,
   "metadata": {},
   "outputs": [],
   "source": [
    "class converter:\n",
    "    \n",
    "    def __init__(self,num):\n",
    "        self.num = num\n",
    "        \n",
    "    def dec_to_bin(self):\n",
    "        binary = bin(self.num)\n",
    "        return f\" The Binary representation of {self.num} is {binary[2:]}\"\n",
    "    \n",
    "    def dec_to_oct(self):\n",
    "        octal = oct(self.num)\n",
    "        return f\" The octal representation of {self.num} is {octal[2:]}\"\n",
    "    \n",
    "    def dec_to_hex(self):\n",
    "        hexad = hex(self.num)\n",
    "        return f\" The hexadecimal representation of {self.num} is {hexad[2:]}\""
   ]
  },
  {
   "cell_type": "code",
   "execution_count": 26,
   "metadata": {},
   "outputs": [
    {
     "name": "stdout",
     "output_type": "stream",
     "text": [
      " The Binary representation of 14 is 1110\n",
      " The octal representation of 14 is 16\n",
      " The hexadecimal representation of 14 is e\n"
     ]
    }
   ],
   "source": [
    "op = converter(14)\n",
    "print(op.dec_to_bin())\n",
    "print(op.dec_to_oct())\n",
    "print(op.dec_to_hex())"
   ]
  },
  {
   "cell_type": "markdown",
   "metadata": {},
   "source": [
    "------"
   ]
  },
  {
   "cell_type": "code",
   "execution_count": null,
   "metadata": {},
   "outputs": [],
   "source": [
    "4.\tWrite a Python Program To Find ASCII value of a character?"
   ]
  },
  {
   "cell_type": "code",
   "execution_count": 32,
   "metadata": {},
   "outputs": [],
   "source": [
    "class ascii_converter():\n",
    "    \n",
    "    def __init__(self,char):\n",
    "        self.char = char\n",
    "        \n",
    "    def convert_method(self):\n",
    "        try:    \n",
    "            value = ord(self.char)\n",
    "            return f\" The Ascii value of {self.char} is {value}\"\n",
    "        except Exception as e:\n",
    "            print(\"Please Enter a character\")"
   ]
  },
  {
   "cell_type": "code",
   "execution_count": 34,
   "metadata": {},
   "outputs": [
    {
     "data": {
      "text/plain": [
       "' The Ascii value of a is 97'"
      ]
     },
     "execution_count": 34,
     "metadata": {},
     "output_type": "execute_result"
    }
   ],
   "source": [
    "op = ascii_converter('a')\n",
    "op.convert_method()"
   ]
  },
  {
   "cell_type": "markdown",
   "metadata": {},
   "source": [
    "----"
   ]
  },
  {
   "cell_type": "markdown",
   "metadata": {},
   "source": [
    "5.\tWrite a Python Program to Make a Simple Calculator with 4 basic mathematical operations?"
   ]
  },
  {
   "cell_type": "code",
   "execution_count": 60,
   "metadata": {},
   "outputs": [
    {
     "name": "stdout",
     "output_type": "stream",
     "text": [
      "1: Add\n",
      "2: Subtract\n",
      "3: Multiply\n",
      "4: Divide\n",
      "5: Exit\n",
      "Select operation: 1\n",
      "Enter first number: 12\n",
      "Enter second number: 23\n",
      "12 + 23 = 35\n",
      "1: Add\n",
      "2: Subtract\n",
      "3: Multiply\n",
      "4: Divide\n",
      "5: Exit\n",
      "Select operation: 5\n"
     ]
    }
   ],
   "source": [
    "class Calculator:\n",
    "    def add(self, a, b):\n",
    "        return a+b\n",
    "    \n",
    "    def subtract(self, a, b):\n",
    "        return a-b\n",
    "        \n",
    "    def multiply(self, a, b):\n",
    "        return a*b\n",
    "\n",
    "    def divide(self, a, b):\n",
    "        return a/b\n",
    "\n",
    "#create a calculator object\n",
    "my_cl = Calculator()\n",
    "\n",
    "while True:\n",
    "\n",
    "    print(\"1: Add\")\n",
    "    print(\"2: Subtract\")\n",
    "    print(\"3: Multiply\")\n",
    "    print(\"4: Divide\")\n",
    "    print(\"5: Exit\")\n",
    "    \n",
    "    ch = int(input(\"Select operation: \"))\n",
    "    \n",
    "    #Make sure the user have entered the valid choice\n",
    "    if ch in (1, 2, 3, 4, 5):\n",
    "        \n",
    "        #first check whether user want to exit\n",
    "        if(ch == 5):\n",
    "            break\n",
    "        \n",
    "        #If not then ask fo the input and call appropiate methods        \n",
    "        a = int(input(\"Enter first number: \"))\n",
    "        b = int(input(\"Enter second number: \"))\n",
    "        \n",
    "        if(ch == 1):\n",
    "            print(a, \"+\", b, \"=\", my_cl.add(a, b))\n",
    "        elif(ch == 2):\n",
    "            print(a, \"-\", b, \"=\", my_cl.subtract(a, b))\n",
    "        elif(ch == 3):\n",
    "            print(a, \"*\", b, \"=\", my_cl.multiply(a, b))\n",
    "        elif(ch == 4):\n",
    "            print(a, \"/\", b, \"=\", my_cl.divide(a, b))\n",
    "    \n",
    "    else:\n",
    "        print(\"Invalid Input\")"
   ]
  }
 ],
 "metadata": {
  "kernelspec": {
   "display_name": "Python 3",
   "language": "python",
   "name": "python3"
  },
  "language_info": {
   "codemirror_mode": {
    "name": "ipython",
    "version": 3
   },
   "file_extension": ".py",
   "mimetype": "text/x-python",
   "name": "python",
   "nbconvert_exporter": "python",
   "pygments_lexer": "ipython3",
   "version": "3.8.8"
  }
 },
 "nbformat": 4,
 "nbformat_minor": 4
}
